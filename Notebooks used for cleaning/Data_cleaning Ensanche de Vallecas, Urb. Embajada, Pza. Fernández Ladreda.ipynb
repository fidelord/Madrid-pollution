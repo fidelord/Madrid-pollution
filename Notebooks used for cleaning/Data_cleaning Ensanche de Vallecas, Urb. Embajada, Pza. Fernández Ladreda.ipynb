{
 "cells": [
  {
   "cell_type": "code",
   "execution_count": 30,
   "id": "c282bb4e",
   "metadata": {},
   "outputs": [],
   "source": [
    "import pandas as pd \n",
    "import numpy as np\n",
    "import os"
   ]
  },
  {
   "cell_type": "code",
   "execution_count": 31,
   "id": "2b2a391e",
   "metadata": {},
   "outputs": [],
   "source": [
    "madrid_dfs = []\n",
    "for i in range(1,19):\n",
    "    path = os.path.join(\"csvs_per_year\", f\"madrid_{2000 + i}.csv\")\n",
    "    df = pd.read_csv(path)\n",
    "    madrid_dfs.append(df) "
   ]
  },
  {
   "cell_type": "code",
   "execution_count": 32,
   "id": "28c67ec7",
   "metadata": {},
   "outputs": [
    {
     "data": {
      "text/html": [
       "<div>\n",
       "<style scoped>\n",
       "    .dataframe tbody tr th:only-of-type {\n",
       "        vertical-align: middle;\n",
       "    }\n",
       "\n",
       "    .dataframe tbody tr th {\n",
       "        vertical-align: top;\n",
       "    }\n",
       "\n",
       "    .dataframe thead th {\n",
       "        text-align: right;\n",
       "    }\n",
       "</style>\n",
       "<table border=\"1\" class=\"dataframe\">\n",
       "  <thead>\n",
       "    <tr style=\"text-align: right;\">\n",
       "      <th></th>\n",
       "      <th>date</th>\n",
       "      <th>BEN</th>\n",
       "      <th>CO</th>\n",
       "      <th>EBE</th>\n",
       "      <th>MXY</th>\n",
       "      <th>NMHC</th>\n",
       "      <th>NO_2</th>\n",
       "      <th>NOx</th>\n",
       "      <th>OXY</th>\n",
       "      <th>O_3</th>\n",
       "      <th>PM10</th>\n",
       "      <th>PXY</th>\n",
       "      <th>SO_2</th>\n",
       "      <th>TCH</th>\n",
       "      <th>TOL</th>\n",
       "      <th>station</th>\n",
       "    </tr>\n",
       "  </thead>\n",
       "  <tbody>\n",
       "    <tr>\n",
       "      <th>0</th>\n",
       "      <td>2001-08-01 01:00:00</td>\n",
       "      <td>NaN</td>\n",
       "      <td>0.37</td>\n",
       "      <td>NaN</td>\n",
       "      <td>NaN</td>\n",
       "      <td>NaN</td>\n",
       "      <td>58.400002</td>\n",
       "      <td>87.150002</td>\n",
       "      <td>NaN</td>\n",
       "      <td>34.529999</td>\n",
       "      <td>105.000000</td>\n",
       "      <td>NaN</td>\n",
       "      <td>6.34</td>\n",
       "      <td>NaN</td>\n",
       "      <td>NaN</td>\n",
       "      <td>28079001</td>\n",
       "    </tr>\n",
       "    <tr>\n",
       "      <th>1</th>\n",
       "      <td>2001-08-01 01:00:00</td>\n",
       "      <td>1.5</td>\n",
       "      <td>0.34</td>\n",
       "      <td>1.49</td>\n",
       "      <td>4.1</td>\n",
       "      <td>0.07</td>\n",
       "      <td>56.250000</td>\n",
       "      <td>75.169998</td>\n",
       "      <td>2.11</td>\n",
       "      <td>42.160000</td>\n",
       "      <td>100.599998</td>\n",
       "      <td>1.73</td>\n",
       "      <td>8.11</td>\n",
       "      <td>1.24</td>\n",
       "      <td>10.82</td>\n",
       "      <td>28079035</td>\n",
       "    </tr>\n",
       "    <tr>\n",
       "      <th>2</th>\n",
       "      <td>2001-08-01 01:00:00</td>\n",
       "      <td>NaN</td>\n",
       "      <td>0.28</td>\n",
       "      <td>NaN</td>\n",
       "      <td>NaN</td>\n",
       "      <td>NaN</td>\n",
       "      <td>50.660000</td>\n",
       "      <td>61.380001</td>\n",
       "      <td>NaN</td>\n",
       "      <td>46.310001</td>\n",
       "      <td>100.099998</td>\n",
       "      <td>NaN</td>\n",
       "      <td>7.85</td>\n",
       "      <td>NaN</td>\n",
       "      <td>NaN</td>\n",
       "      <td>28079003</td>\n",
       "    </tr>\n",
       "    <tr>\n",
       "      <th>3</th>\n",
       "      <td>2001-08-01 01:00:00</td>\n",
       "      <td>NaN</td>\n",
       "      <td>0.47</td>\n",
       "      <td>NaN</td>\n",
       "      <td>NaN</td>\n",
       "      <td>NaN</td>\n",
       "      <td>69.790001</td>\n",
       "      <td>73.449997</td>\n",
       "      <td>NaN</td>\n",
       "      <td>40.650002</td>\n",
       "      <td>69.779999</td>\n",
       "      <td>NaN</td>\n",
       "      <td>6.46</td>\n",
       "      <td>NaN</td>\n",
       "      <td>NaN</td>\n",
       "      <td>28079004</td>\n",
       "    </tr>\n",
       "    <tr>\n",
       "      <th>4</th>\n",
       "      <td>2001-08-01 01:00:00</td>\n",
       "      <td>NaN</td>\n",
       "      <td>0.39</td>\n",
       "      <td>NaN</td>\n",
       "      <td>NaN</td>\n",
       "      <td>NaN</td>\n",
       "      <td>22.830000</td>\n",
       "      <td>24.799999</td>\n",
       "      <td>NaN</td>\n",
       "      <td>66.309998</td>\n",
       "      <td>75.180000</td>\n",
       "      <td>NaN</td>\n",
       "      <td>8.80</td>\n",
       "      <td>NaN</td>\n",
       "      <td>NaN</td>\n",
       "      <td>28079039</td>\n",
       "    </tr>\n",
       "  </tbody>\n",
       "</table>\n",
       "</div>"
      ],
      "text/plain": [
       "                  date  BEN    CO   EBE  MXY  NMHC       NO_2        NOx  \\\n",
       "0  2001-08-01 01:00:00  NaN  0.37   NaN  NaN   NaN  58.400002  87.150002   \n",
       "1  2001-08-01 01:00:00  1.5  0.34  1.49  4.1  0.07  56.250000  75.169998   \n",
       "2  2001-08-01 01:00:00  NaN  0.28   NaN  NaN   NaN  50.660000  61.380001   \n",
       "3  2001-08-01 01:00:00  NaN  0.47   NaN  NaN   NaN  69.790001  73.449997   \n",
       "4  2001-08-01 01:00:00  NaN  0.39   NaN  NaN   NaN  22.830000  24.799999   \n",
       "\n",
       "    OXY        O_3        PM10   PXY  SO_2   TCH    TOL   station  \n",
       "0   NaN  34.529999  105.000000   NaN  6.34   NaN    NaN  28079001  \n",
       "1  2.11  42.160000  100.599998  1.73  8.11  1.24  10.82  28079035  \n",
       "2   NaN  46.310001  100.099998   NaN  7.85   NaN    NaN  28079003  \n",
       "3   NaN  40.650002   69.779999   NaN  6.46   NaN    NaN  28079004  \n",
       "4   NaN  66.309998   75.180000   NaN  8.80   NaN    NaN  28079039  "
      ]
     },
     "execution_count": 32,
     "metadata": {},
     "output_type": "execute_result"
    }
   ],
   "source": [
    "madrid_dfs[0].head()"
   ]
  },
  {
   "cell_type": "code",
   "execution_count": 33,
   "id": "310fcf11",
   "metadata": {},
   "outputs": [
    {
     "data": {
      "text/html": [
       "<div>\n",
       "<style scoped>\n",
       "    .dataframe tbody tr th:only-of-type {\n",
       "        vertical-align: middle;\n",
       "    }\n",
       "\n",
       "    .dataframe tbody tr th {\n",
       "        vertical-align: top;\n",
       "    }\n",
       "\n",
       "    .dataframe thead th {\n",
       "        text-align: right;\n",
       "    }\n",
       "</style>\n",
       "<table border=\"1\" class=\"dataframe\">\n",
       "  <thead>\n",
       "    <tr style=\"text-align: right;\">\n",
       "      <th></th>\n",
       "      <th>date</th>\n",
       "      <th>BEN</th>\n",
       "      <th>CO</th>\n",
       "      <th>EBE</th>\n",
       "      <th>MXY</th>\n",
       "      <th>NMHC</th>\n",
       "      <th>NO_2</th>\n",
       "      <th>NOx</th>\n",
       "      <th>OXY</th>\n",
       "      <th>O_3</th>\n",
       "      <th>PM10</th>\n",
       "      <th>PXY</th>\n",
       "      <th>SO_2</th>\n",
       "      <th>TCH</th>\n",
       "      <th>TOL</th>\n",
       "      <th>station</th>\n",
       "    </tr>\n",
       "  </thead>\n",
       "  <tbody>\n",
       "    <tr>\n",
       "      <th>0</th>\n",
       "      <td>2002-04-01 01:00:00</td>\n",
       "      <td>NaN</td>\n",
       "      <td>1.39</td>\n",
       "      <td>NaN</td>\n",
       "      <td>NaN</td>\n",
       "      <td>NaN</td>\n",
       "      <td>145.100006</td>\n",
       "      <td>352.100006</td>\n",
       "      <td>NaN</td>\n",
       "      <td>6.54</td>\n",
       "      <td>41.990002</td>\n",
       "      <td>NaN</td>\n",
       "      <td>21.32</td>\n",
       "      <td>NaN</td>\n",
       "      <td>NaN</td>\n",
       "      <td>28079001</td>\n",
       "    </tr>\n",
       "    <tr>\n",
       "      <th>1</th>\n",
       "      <td>2002-04-01 01:00:00</td>\n",
       "      <td>1.93</td>\n",
       "      <td>0.71</td>\n",
       "      <td>2.33</td>\n",
       "      <td>6.2</td>\n",
       "      <td>0.15</td>\n",
       "      <td>98.150002</td>\n",
       "      <td>153.399994</td>\n",
       "      <td>2.67</td>\n",
       "      <td>6.85</td>\n",
       "      <td>20.980000</td>\n",
       "      <td>2.53</td>\n",
       "      <td>11.66</td>\n",
       "      <td>1.82</td>\n",
       "      <td>10.98</td>\n",
       "      <td>28079035</td>\n",
       "    </tr>\n",
       "    <tr>\n",
       "      <th>2</th>\n",
       "      <td>2002-04-01 01:00:00</td>\n",
       "      <td>NaN</td>\n",
       "      <td>0.80</td>\n",
       "      <td>NaN</td>\n",
       "      <td>NaN</td>\n",
       "      <td>NaN</td>\n",
       "      <td>103.699997</td>\n",
       "      <td>134.000000</td>\n",
       "      <td>NaN</td>\n",
       "      <td>13.01</td>\n",
       "      <td>28.440001</td>\n",
       "      <td>NaN</td>\n",
       "      <td>13.67</td>\n",
       "      <td>NaN</td>\n",
       "      <td>NaN</td>\n",
       "      <td>28079003</td>\n",
       "    </tr>\n",
       "    <tr>\n",
       "      <th>3</th>\n",
       "      <td>2002-04-01 01:00:00</td>\n",
       "      <td>NaN</td>\n",
       "      <td>1.61</td>\n",
       "      <td>NaN</td>\n",
       "      <td>NaN</td>\n",
       "      <td>NaN</td>\n",
       "      <td>97.599998</td>\n",
       "      <td>268.000000</td>\n",
       "      <td>NaN</td>\n",
       "      <td>5.12</td>\n",
       "      <td>42.180000</td>\n",
       "      <td>NaN</td>\n",
       "      <td>16.99</td>\n",
       "      <td>NaN</td>\n",
       "      <td>NaN</td>\n",
       "      <td>28079004</td>\n",
       "    </tr>\n",
       "    <tr>\n",
       "      <th>4</th>\n",
       "      <td>2002-04-01 01:00:00</td>\n",
       "      <td>NaN</td>\n",
       "      <td>1.90</td>\n",
       "      <td>NaN</td>\n",
       "      <td>NaN</td>\n",
       "      <td>NaN</td>\n",
       "      <td>92.089996</td>\n",
       "      <td>237.199997</td>\n",
       "      <td>NaN</td>\n",
       "      <td>7.28</td>\n",
       "      <td>76.330002</td>\n",
       "      <td>NaN</td>\n",
       "      <td>15.26</td>\n",
       "      <td>NaN</td>\n",
       "      <td>NaN</td>\n",
       "      <td>28079039</td>\n",
       "    </tr>\n",
       "  </tbody>\n",
       "</table>\n",
       "</div>"
      ],
      "text/plain": [
       "                  date   BEN    CO   EBE  MXY  NMHC        NO_2         NOx  \\\n",
       "0  2002-04-01 01:00:00   NaN  1.39   NaN  NaN   NaN  145.100006  352.100006   \n",
       "1  2002-04-01 01:00:00  1.93  0.71  2.33  6.2  0.15   98.150002  153.399994   \n",
       "2  2002-04-01 01:00:00   NaN  0.80   NaN  NaN   NaN  103.699997  134.000000   \n",
       "3  2002-04-01 01:00:00   NaN  1.61   NaN  NaN   NaN   97.599998  268.000000   \n",
       "4  2002-04-01 01:00:00   NaN  1.90   NaN  NaN   NaN   92.089996  237.199997   \n",
       "\n",
       "    OXY    O_3       PM10   PXY   SO_2   TCH    TOL   station  \n",
       "0   NaN   6.54  41.990002   NaN  21.32   NaN    NaN  28079001  \n",
       "1  2.67   6.85  20.980000  2.53  11.66  1.82  10.98  28079035  \n",
       "2   NaN  13.01  28.440001   NaN  13.67   NaN    NaN  28079003  \n",
       "3   NaN   5.12  42.180000   NaN  16.99   NaN    NaN  28079004  \n",
       "4   NaN   7.28  76.330002   NaN  15.26   NaN    NaN  28079039  "
      ]
     },
     "execution_count": 33,
     "metadata": {},
     "output_type": "execute_result"
    }
   ],
   "source": [
    "madrid_dfs[1].head()"
   ]
  },
  {
   "cell_type": "code",
   "execution_count": 34,
   "id": "94a79a12",
   "metadata": {},
   "outputs": [
    {
     "data": {
      "text/html": [
       "<div>\n",
       "<style scoped>\n",
       "    .dataframe tbody tr th:only-of-type {\n",
       "        vertical-align: middle;\n",
       "    }\n",
       "\n",
       "    .dataframe tbody tr th {\n",
       "        vertical-align: top;\n",
       "    }\n",
       "\n",
       "    .dataframe thead th {\n",
       "        text-align: right;\n",
       "    }\n",
       "</style>\n",
       "<table border=\"1\" class=\"dataframe\">\n",
       "  <thead>\n",
       "    <tr style=\"text-align: right;\">\n",
       "      <th></th>\n",
       "      <th>date</th>\n",
       "      <th>BEN</th>\n",
       "      <th>CO</th>\n",
       "      <th>EBE</th>\n",
       "      <th>MXY</th>\n",
       "      <th>NMHC</th>\n",
       "      <th>NO_2</th>\n",
       "      <th>NOx</th>\n",
       "      <th>OXY</th>\n",
       "      <th>O_3</th>\n",
       "      <th>PM10</th>\n",
       "      <th>PXY</th>\n",
       "      <th>SO_2</th>\n",
       "      <th>TCH</th>\n",
       "      <th>TOL</th>\n",
       "      <th>station</th>\n",
       "    </tr>\n",
       "  </thead>\n",
       "  <tbody>\n",
       "    <tr>\n",
       "      <th>217291</th>\n",
       "      <td>2002-11-01 00:00:00</td>\n",
       "      <td>4.16</td>\n",
       "      <td>1.14</td>\n",
       "      <td>NaN</td>\n",
       "      <td>NaN</td>\n",
       "      <td>NaN</td>\n",
       "      <td>81.080002</td>\n",
       "      <td>265.700012</td>\n",
       "      <td>NaN</td>\n",
       "      <td>7.21</td>\n",
       "      <td>36.750000</td>\n",
       "      <td>NaN</td>\n",
       "      <td>13.210000</td>\n",
       "      <td>NaN</td>\n",
       "      <td>NaN</td>\n",
       "      <td>28079022</td>\n",
       "    </tr>\n",
       "    <tr>\n",
       "      <th>217292</th>\n",
       "      <td>2002-11-01 00:00:00</td>\n",
       "      <td>3.67</td>\n",
       "      <td>1.73</td>\n",
       "      <td>2.89</td>\n",
       "      <td>NaN</td>\n",
       "      <td>0.38</td>\n",
       "      <td>113.900002</td>\n",
       "      <td>373.100006</td>\n",
       "      <td>NaN</td>\n",
       "      <td>5.66</td>\n",
       "      <td>63.389999</td>\n",
       "      <td>NaN</td>\n",
       "      <td>15.640000</td>\n",
       "      <td>1.78</td>\n",
       "      <td>15.690000</td>\n",
       "      <td>28079023</td>\n",
       "    </tr>\n",
       "    <tr>\n",
       "      <th>217293</th>\n",
       "      <td>2002-11-01 00:00:00</td>\n",
       "      <td>1.37</td>\n",
       "      <td>0.58</td>\n",
       "      <td>1.17</td>\n",
       "      <td>2.37</td>\n",
       "      <td>0.15</td>\n",
       "      <td>65.389999</td>\n",
       "      <td>107.699997</td>\n",
       "      <td>1.30</td>\n",
       "      <td>9.11</td>\n",
       "      <td>9.640000</td>\n",
       "      <td>0.94</td>\n",
       "      <td>5.620000</td>\n",
       "      <td>1.43</td>\n",
       "      <td>4.330000</td>\n",
       "      <td>28079024</td>\n",
       "    </tr>\n",
       "    <tr>\n",
       "      <th>217294</th>\n",
       "      <td>2002-11-01 00:00:00</td>\n",
       "      <td>4.51</td>\n",
       "      <td>0.91</td>\n",
       "      <td>4.83</td>\n",
       "      <td>10.99</td>\n",
       "      <td>NaN</td>\n",
       "      <td>149.800003</td>\n",
       "      <td>202.199997</td>\n",
       "      <td>1.00</td>\n",
       "      <td>5.75</td>\n",
       "      <td>NaN</td>\n",
       "      <td>5.52</td>\n",
       "      <td>24.219999</td>\n",
       "      <td>NaN</td>\n",
       "      <td>22.129999</td>\n",
       "      <td>28079025</td>\n",
       "    </tr>\n",
       "    <tr>\n",
       "      <th>217295</th>\n",
       "      <td>2002-11-01 00:00:00</td>\n",
       "      <td>3.11</td>\n",
       "      <td>1.17</td>\n",
       "      <td>3.00</td>\n",
       "      <td>7.77</td>\n",
       "      <td>0.26</td>\n",
       "      <td>80.110001</td>\n",
       "      <td>180.300003</td>\n",
       "      <td>2.25</td>\n",
       "      <td>7.38</td>\n",
       "      <td>29.240000</td>\n",
       "      <td>3.35</td>\n",
       "      <td>12.910000</td>\n",
       "      <td>1.54</td>\n",
       "      <td>15.510000</td>\n",
       "      <td>28079099</td>\n",
       "    </tr>\n",
       "  </tbody>\n",
       "</table>\n",
       "</div>"
      ],
      "text/plain": [
       "                       date   BEN    CO   EBE    MXY  NMHC        NO_2  \\\n",
       "217291  2002-11-01 00:00:00  4.16  1.14   NaN    NaN   NaN   81.080002   \n",
       "217292  2002-11-01 00:00:00  3.67  1.73  2.89    NaN  0.38  113.900002   \n",
       "217293  2002-11-01 00:00:00  1.37  0.58  1.17   2.37  0.15   65.389999   \n",
       "217294  2002-11-01 00:00:00  4.51  0.91  4.83  10.99   NaN  149.800003   \n",
       "217295  2002-11-01 00:00:00  3.11  1.17  3.00   7.77  0.26   80.110001   \n",
       "\n",
       "               NOx   OXY   O_3       PM10   PXY       SO_2   TCH        TOL  \\\n",
       "217291  265.700012   NaN  7.21  36.750000   NaN  13.210000   NaN        NaN   \n",
       "217292  373.100006   NaN  5.66  63.389999   NaN  15.640000  1.78  15.690000   \n",
       "217293  107.699997  1.30  9.11   9.640000  0.94   5.620000  1.43   4.330000   \n",
       "217294  202.199997  1.00  5.75        NaN  5.52  24.219999   NaN  22.129999   \n",
       "217295  180.300003  2.25  7.38  29.240000  3.35  12.910000  1.54  15.510000   \n",
       "\n",
       "         station  \n",
       "217291  28079022  \n",
       "217292  28079023  \n",
       "217293  28079024  \n",
       "217294  28079025  \n",
       "217295  28079099  "
      ]
     },
     "execution_count": 34,
     "metadata": {},
     "output_type": "execute_result"
    }
   ],
   "source": [
    "madrid_dfs[1].tail()"
   ]
  },
  {
   "cell_type": "code",
   "execution_count": 35,
   "id": "ef22ad05",
   "metadata": {},
   "outputs": [],
   "source": [
    "total_df = pd.concat(madrid_dfs, axis=0)"
   ]
  },
  {
   "cell_type": "code",
   "execution_count": 36,
   "id": "83d984bb",
   "metadata": {},
   "outputs": [],
   "source": [
    "#converting mg/m³ to μg/m³ for uniformity\n",
    "total_df[\"CO\"]=total_df[\"CO\"]/1000\n",
    "total_df[\"TCH\"]=total_df[\"TCH\"]/1000\n",
    "total_df[\"CH4\"]=total_df[\"CH4\"]/1000"
   ]
  },
  {
   "cell_type": "code",
   "execution_count": 37,
   "id": "4b360ec7",
   "metadata": {},
   "outputs": [
    {
     "data": {
      "text/html": [
       "<div>\n",
       "<style scoped>\n",
       "    .dataframe tbody tr th:only-of-type {\n",
       "        vertical-align: middle;\n",
       "    }\n",
       "\n",
       "    .dataframe tbody tr th {\n",
       "        vertical-align: top;\n",
       "    }\n",
       "\n",
       "    .dataframe thead th {\n",
       "        text-align: right;\n",
       "    }\n",
       "</style>\n",
       "<table border=\"1\" class=\"dataframe\">\n",
       "  <thead>\n",
       "    <tr style=\"text-align: right;\">\n",
       "      <th></th>\n",
       "      <th>id</th>\n",
       "      <th>address</th>\n",
       "      <th>lon</th>\n",
       "      <th>lat</th>\n",
       "      <th>elevation</th>\n",
       "    </tr>\n",
       "    <tr>\n",
       "      <th>name</th>\n",
       "      <th></th>\n",
       "      <th></th>\n",
       "      <th></th>\n",
       "      <th></th>\n",
       "      <th></th>\n",
       "    </tr>\n",
       "  </thead>\n",
       "  <tbody>\n",
       "    <tr>\n",
       "      <th>Ensanche de Vallecas</th>\n",
       "      <td>28079054</td>\n",
       "      <td>Avda La Gavia / Avda. Las Suertes</td>\n",
       "      <td>-3.612117</td>\n",
       "      <td>40.372933</td>\n",
       "      <td>627</td>\n",
       "    </tr>\n",
       "    <tr>\n",
       "      <th>Urb. Embajada</th>\n",
       "      <td>28079055</td>\n",
       "      <td>C/ Riaño (Barajas)</td>\n",
       "      <td>-3.580747</td>\n",
       "      <td>40.462531</td>\n",
       "      <td>618</td>\n",
       "    </tr>\n",
       "    <tr>\n",
       "      <th>Pza. Fernández Ladreda</th>\n",
       "      <td>28079056</td>\n",
       "      <td>Pza. Fernández Ladreda - Avda. Oporto</td>\n",
       "      <td>-3.718728</td>\n",
       "      <td>40.384964</td>\n",
       "      <td>604</td>\n",
       "    </tr>\n",
       "  </tbody>\n",
       "</table>\n",
       "</div>"
      ],
      "text/plain": [
       "                              id                                 address  \\\n",
       "name                                                                       \n",
       "Ensanche de Vallecas    28079054       Avda La Gavia / Avda. Las Suertes   \n",
       "Urb. Embajada           28079055                     C/ Riaño (Barajas)    \n",
       "Pza. Fernández Ladreda  28079056   Pza. Fernández Ladreda - Avda. Oporto   \n",
       "\n",
       "                             lon        lat  elevation  \n",
       "name                                                    \n",
       "Ensanche de Vallecas   -3.612117  40.372933        627  \n",
       "Urb. Embajada          -3.580747  40.462531        618  \n",
       "Pza. Fernández Ladreda -3.718728  40.384964        604  "
      ]
     },
     "execution_count": 37,
     "metadata": {},
     "output_type": "execute_result"
    }
   ],
   "source": [
    "stations = pd.read_csv(\"stations.csv\", index_col=\"name\")\n",
    "stations.loc[[\"Ensanche de Vallecas\", \"Urb. Embajada\", \"Pza. Fernández Ladreda\"]]"
   ]
  },
  {
   "cell_type": "code",
   "execution_count": 38,
   "id": "c04fd546",
   "metadata": {},
   "outputs": [
    {
     "data": {
      "text/html": [
       "<div>\n",
       "<style scoped>\n",
       "    .dataframe tbody tr th:only-of-type {\n",
       "        vertical-align: middle;\n",
       "    }\n",
       "\n",
       "    .dataframe tbody tr th {\n",
       "        vertical-align: top;\n",
       "    }\n",
       "\n",
       "    .dataframe thead th {\n",
       "        text-align: right;\n",
       "    }\n",
       "</style>\n",
       "<table border=\"1\" class=\"dataframe\">\n",
       "  <thead>\n",
       "    <tr style=\"text-align: right;\">\n",
       "      <th></th>\n",
       "      <th>date</th>\n",
       "      <th>BEN</th>\n",
       "      <th>CO</th>\n",
       "      <th>EBE</th>\n",
       "      <th>MXY</th>\n",
       "      <th>NMHC</th>\n",
       "      <th>NO_2</th>\n",
       "      <th>NOx</th>\n",
       "      <th>OXY</th>\n",
       "      <th>O_3</th>\n",
       "      <th>PM10</th>\n",
       "      <th>PXY</th>\n",
       "      <th>SO_2</th>\n",
       "      <th>TCH</th>\n",
       "      <th>TOL</th>\n",
       "      <th>station</th>\n",
       "      <th>PM25</th>\n",
       "      <th>NO</th>\n",
       "      <th>CH4</th>\n",
       "    </tr>\n",
       "  </thead>\n",
       "  <tbody>\n",
       "    <tr>\n",
       "      <th>0</th>\n",
       "      <td>2009-12-11 01:00:00</td>\n",
       "      <td>NaN</td>\n",
       "      <td>NaN</td>\n",
       "      <td>NaN</td>\n",
       "      <td>NaN</td>\n",
       "      <td>NaN</td>\n",
       "      <td>77.820000</td>\n",
       "      <td>124.500000</td>\n",
       "      <td>NaN</td>\n",
       "      <td>4.03</td>\n",
       "      <td>NaN</td>\n",
       "      <td>NaN</td>\n",
       "      <td>NaN</td>\n",
       "      <td>NaN</td>\n",
       "      <td>NaN</td>\n",
       "      <td>28079054</td>\n",
       "      <td>NaN</td>\n",
       "      <td>NaN</td>\n",
       "      <td>NaN</td>\n",
       "    </tr>\n",
       "    <tr>\n",
       "      <th>1</th>\n",
       "      <td>2009-12-11 02:00:00</td>\n",
       "      <td>NaN</td>\n",
       "      <td>NaN</td>\n",
       "      <td>NaN</td>\n",
       "      <td>NaN</td>\n",
       "      <td>NaN</td>\n",
       "      <td>70.120003</td>\n",
       "      <td>114.699997</td>\n",
       "      <td>NaN</td>\n",
       "      <td>4.09</td>\n",
       "      <td>NaN</td>\n",
       "      <td>NaN</td>\n",
       "      <td>NaN</td>\n",
       "      <td>NaN</td>\n",
       "      <td>NaN</td>\n",
       "      <td>28079054</td>\n",
       "      <td>NaN</td>\n",
       "      <td>NaN</td>\n",
       "      <td>NaN</td>\n",
       "    </tr>\n",
       "    <tr>\n",
       "      <th>2</th>\n",
       "      <td>2009-12-11 03:00:00</td>\n",
       "      <td>NaN</td>\n",
       "      <td>NaN</td>\n",
       "      <td>NaN</td>\n",
       "      <td>NaN</td>\n",
       "      <td>NaN</td>\n",
       "      <td>60.680000</td>\n",
       "      <td>95.790001</td>\n",
       "      <td>NaN</td>\n",
       "      <td>3.65</td>\n",
       "      <td>NaN</td>\n",
       "      <td>NaN</td>\n",
       "      <td>NaN</td>\n",
       "      <td>NaN</td>\n",
       "      <td>NaN</td>\n",
       "      <td>28079054</td>\n",
       "      <td>NaN</td>\n",
       "      <td>NaN</td>\n",
       "      <td>NaN</td>\n",
       "    </tr>\n",
       "    <tr>\n",
       "      <th>3</th>\n",
       "      <td>2009-12-11 04:00:00</td>\n",
       "      <td>NaN</td>\n",
       "      <td>NaN</td>\n",
       "      <td>NaN</td>\n",
       "      <td>NaN</td>\n",
       "      <td>NaN</td>\n",
       "      <td>49.509998</td>\n",
       "      <td>58.020000</td>\n",
       "      <td>NaN</td>\n",
       "      <td>6.03</td>\n",
       "      <td>NaN</td>\n",
       "      <td>NaN</td>\n",
       "      <td>NaN</td>\n",
       "      <td>NaN</td>\n",
       "      <td>NaN</td>\n",
       "      <td>28079054</td>\n",
       "      <td>NaN</td>\n",
       "      <td>NaN</td>\n",
       "      <td>NaN</td>\n",
       "    </tr>\n",
       "    <tr>\n",
       "      <th>4</th>\n",
       "      <td>2009-12-11 05:00:00</td>\n",
       "      <td>NaN</td>\n",
       "      <td>NaN</td>\n",
       "      <td>NaN</td>\n",
       "      <td>NaN</td>\n",
       "      <td>NaN</td>\n",
       "      <td>46.630001</td>\n",
       "      <td>59.759998</td>\n",
       "      <td>NaN</td>\n",
       "      <td>4.40</td>\n",
       "      <td>NaN</td>\n",
       "      <td>NaN</td>\n",
       "      <td>NaN</td>\n",
       "      <td>NaN</td>\n",
       "      <td>NaN</td>\n",
       "      <td>28079054</td>\n",
       "      <td>NaN</td>\n",
       "      <td>NaN</td>\n",
       "      <td>NaN</td>\n",
       "    </tr>\n",
       "  </tbody>\n",
       "</table>\n",
       "</div>"
      ],
      "text/plain": [
       "                  date  BEN  CO  EBE  MXY  NMHC       NO_2         NOx  OXY  \\\n",
       "0  2009-12-11 01:00:00  NaN NaN  NaN  NaN   NaN  77.820000  124.500000  NaN   \n",
       "1  2009-12-11 02:00:00  NaN NaN  NaN  NaN   NaN  70.120003  114.699997  NaN   \n",
       "2  2009-12-11 03:00:00  NaN NaN  NaN  NaN   NaN  60.680000   95.790001  NaN   \n",
       "3  2009-12-11 04:00:00  NaN NaN  NaN  NaN   NaN  49.509998   58.020000  NaN   \n",
       "4  2009-12-11 05:00:00  NaN NaN  NaN  NaN   NaN  46.630001   59.759998  NaN   \n",
       "\n",
       "    O_3  PM10  PXY  SO_2  TCH  TOL   station  PM25  NO  CH4  \n",
       "0  4.03   NaN  NaN   NaN  NaN  NaN  28079054   NaN NaN  NaN  \n",
       "1  4.09   NaN  NaN   NaN  NaN  NaN  28079054   NaN NaN  NaN  \n",
       "2  3.65   NaN  NaN   NaN  NaN  NaN  28079054   NaN NaN  NaN  \n",
       "3  6.03   NaN  NaN   NaN  NaN  NaN  28079054   NaN NaN  NaN  \n",
       "4  4.40   NaN  NaN   NaN  NaN  NaN  28079054   NaN NaN  NaN  "
      ]
     },
     "execution_count": 38,
     "metadata": {},
     "output_type": "execute_result"
    }
   ],
   "source": [
    "Ensanche_df = total_df[total_df[\"station\"] == 28079054].reset_index(drop=True)\n",
    "Ensanche_df.head()"
   ]
  },
  {
   "cell_type": "code",
   "execution_count": 39,
   "id": "c8f9d9ed",
   "metadata": {},
   "outputs": [],
   "source": [
    "Urb_Embajada_df = total_df[total_df[\"station\"] == 28079055].reset_index(drop=True)\n",
    "Pza_Fernández_df = total_df[total_df[\"station\"] == 28079056].reset_index(drop=True)"
   ]
  },
  {
   "cell_type": "code",
   "execution_count": 40,
   "id": "661e4a77",
   "metadata": {},
   "outputs": [
    {
     "data": {
      "text/plain": [
       "Index(['BEN', 'CO', 'EBE', 'MXY', 'NMHC', 'NOx', 'OXY', 'PM10', 'PXY', 'SO_2',\n",
       "       'TCH', 'TOL', 'PM25', 'CH4'],\n",
       "      dtype='object')"
      ]
     },
     "execution_count": 40,
     "metadata": {},
     "output_type": "execute_result"
    }
   ],
   "source": [
    "Ensanche_col_null = (Ensanche_df.isna().sum()/Ensanche_df.shape[0]*100)\n",
    "to_drop = Ensanche_col_null[Ensanche_col_null.values >= 70].index\n",
    "to_drop\n",
    "#100% null value for polutants: ['CH4', 'PM25', 'CO', 'EBE', 'MXY', 'NMHC', 'OXY', 'BEN', 'PM10', 'PXY', 'SO_2', 'TCH', 'TOL']"
   ]
  },
  {
   "cell_type": "code",
   "execution_count": 41,
   "id": "25fd9034",
   "metadata": {},
   "outputs": [],
   "source": [
    "#dropping columns with 100% Nan\n",
    "Ensanche_df.drop(to_drop, axis=1, inplace=True)"
   ]
  },
  {
   "cell_type": "code",
   "execution_count": 42,
   "id": "b2644999",
   "metadata": {},
   "outputs": [
    {
     "data": {
      "text/plain": [
       "Index(['CO', 'MXY', 'NOx', 'OXY', 'O_3', 'PXY', 'SO_2', 'PM25', 'CH4'], dtype='object')"
      ]
     },
     "execution_count": 42,
     "metadata": {},
     "output_type": "execute_result"
    }
   ],
   "source": [
    "Urb_Embajada_col_null = (Urb_Embajada_df.isna().sum()/Urb_Embajada_df.shape[0]*100)\n",
    "to_drop = Urb_Embajada_col_null[Urb_Embajada_col_null.values >= 70].index\n",
    "to_drop"
   ]
  },
  {
   "cell_type": "code",
   "execution_count": 43,
   "id": "d7c5f947",
   "metadata": {},
   "outputs": [],
   "source": [
    "Urb_Embajada_df.drop(to_drop, axis=1, inplace=True)"
   ]
  },
  {
   "cell_type": "code",
   "execution_count": 44,
   "id": "3beba07c",
   "metadata": {},
   "outputs": [
    {
     "data": {
      "text/plain": [
       "Index(['BEN', 'EBE', 'MXY', 'NMHC', 'NOx', 'OXY', 'PM10', 'PXY', 'SO_2', 'TCH',\n",
       "       'TOL', 'PM25', 'CH4'],\n",
       "      dtype='object')"
      ]
     },
     "execution_count": 44,
     "metadata": {},
     "output_type": "execute_result"
    }
   ],
   "source": [
    "Pza_Fernández_col_null = (Pza_Fernández_df.isna().sum()/Pza_Fernández_df.shape[0]*100)\n",
    "to_drop = Pza_Fernández_col_null[Pza_Fernández_col_null.values >= 70].index\n",
    "to_drop"
   ]
  },
  {
   "cell_type": "code",
   "execution_count": 45,
   "id": "2ade6cc0",
   "metadata": {},
   "outputs": [],
   "source": [
    "Pza_Fernández_df.drop(to_drop, axis=1, inplace=True)"
   ]
  },
  {
   "cell_type": "code",
   "execution_count": 46,
   "id": "1b10907c",
   "metadata": {},
   "outputs": [
    {
     "data": {
      "text/plain": [
       "30445"
      ]
     },
     "execution_count": 46,
     "metadata": {},
     "output_type": "execute_result"
    }
   ],
   "source": [
    "Urb_Embajada_df.isna().sum().sum()"
   ]
  },
  {
   "cell_type": "markdown",
   "id": "75283b2b",
   "metadata": {},
   "source": [
    "## filling missing values less than 1% with 0"
   ]
  },
  {
   "cell_type": "code",
   "execution_count": 47,
   "id": "f01d35d8",
   "metadata": {},
   "outputs": [
    {
     "data": {
      "text/plain": [
       "date       0.000000\n",
       "NO_2       0.385930\n",
       "PM10       0.831128\n",
       "station    0.000000\n",
       "dtype: float64"
      ]
     },
     "execution_count": 47,
     "metadata": {},
     "output_type": "execute_result"
    }
   ],
   "source": [
    "Urb_Embajada_col_null[Urb_Embajada_col_null.values <= 1]"
   ]
  },
  {
   "cell_type": "code",
   "execution_count": 48,
   "id": "4c397e3a",
   "metadata": {},
   "outputs": [],
   "source": [
    "#Urb_Embajada_df.columns\n",
    "Urb_Embajada_df[\"PM10\"].fillna(0, inplace=True)\n",
    "Urb_Embajada_df[\"NO_2\"].fillna(0, inplace=True)"
   ]
  },
  {
   "cell_type": "code",
   "execution_count": 49,
   "id": "1bfb0268",
   "metadata": {},
   "outputs": [
    {
     "data": {
      "text/plain": [
       "29562"
      ]
     },
     "execution_count": 49,
     "metadata": {},
     "output_type": "execute_result"
    }
   ],
   "source": [
    "Urb_Embajada_df.isna().sum().sum()"
   ]
  },
  {
   "cell_type": "code",
   "execution_count": 50,
   "id": "b4417219",
   "metadata": {},
   "outputs": [
    {
     "data": {
      "text/plain": [
       "date       0.000000\n",
       "NO_2       0.436663\n",
       "O_3        0.643432\n",
       "station    0.000000\n",
       "dtype: float64"
      ]
     },
     "execution_count": 50,
     "metadata": {},
     "output_type": "execute_result"
    }
   ],
   "source": [
    "Ensanche_col_null[Ensanche_col_null.values <= 1]"
   ]
  },
  {
   "cell_type": "code",
   "execution_count": 51,
   "id": "211a776d",
   "metadata": {},
   "outputs": [],
   "source": [
    "Ensanche_df[\"O_3\"].fillna(0, inplace=True)\n",
    "Ensanche_df[\"NO_2\"].fillna(0, inplace=True)"
   ]
  },
  {
   "cell_type": "code",
   "execution_count": 52,
   "id": "7f73ac82",
   "metadata": {},
   "outputs": [
    {
     "data": {
      "text/plain": [
       "date       0.000000\n",
       "CO         0.622717\n",
       "NO_2       0.718200\n",
       "O_3        0.719584\n",
       "station    0.000000\n",
       "dtype: float64"
      ]
     },
     "execution_count": 52,
     "metadata": {},
     "output_type": "execute_result"
    }
   ],
   "source": [
    "Pza_Fernández_col_null[Pza_Fernández_col_null.values <= 1]"
   ]
  },
  {
   "cell_type": "code",
   "execution_count": 53,
   "id": "c4c72a99",
   "metadata": {},
   "outputs": [],
   "source": [
    "Pza_Fernández_df[\"CO\"].fillna(0, inplace=True)\n",
    "Pza_Fernández_df[\"NO_2\"].fillna(0, inplace=True)\n",
    "Pza_Fernández_df[\"O_3\"].fillna(0, inplace=True)"
   ]
  },
  {
   "cell_type": "markdown",
   "id": "3ee82a35",
   "metadata": {},
   "source": [
    "## Missing values are more than 1% and less than 70% with median"
   ]
  },
  {
   "cell_type": "code",
   "execution_count": 54,
   "id": "56e7a1b9",
   "metadata": {},
   "outputs": [
    {
     "data": {
      "text/plain": [
       "Index(['BEN', 'EBE', 'NMHC', 'TCH', 'TOL', 'NO'], dtype='object')"
      ]
     },
     "execution_count": 54,
     "metadata": {},
     "output_type": "execute_result"
    }
   ],
   "source": [
    "median_fill_col = Urb_Embajada_col_null[(Urb_Embajada_col_null.values >= 1) & (Urb_Embajada_col_null.values <= 70)].index\n",
    "median_fill_col"
   ]
  },
  {
   "cell_type": "code",
   "execution_count": 55,
   "id": "a95ee16e",
   "metadata": {},
   "outputs": [],
   "source": [
    "for col in median_fill_col:\n",
    "    Urb_Embajada_df[col].fillna((Urb_Embajada_df[col]).median(), inplace=True)"
   ]
  },
  {
   "cell_type": "code",
   "execution_count": 56,
   "id": "00868d25",
   "metadata": {},
   "outputs": [
    {
     "data": {
      "text/plain": [
       "0"
      ]
     },
     "execution_count": 56,
     "metadata": {},
     "output_type": "execute_result"
    }
   ],
   "source": [
    "Urb_Embajada_df.isna().sum().sum()"
   ]
  },
  {
   "cell_type": "code",
   "execution_count": 57,
   "id": "24602aa4",
   "metadata": {},
   "outputs": [
    {
     "data": {
      "text/plain": [
       "Index(['NO'], dtype='object')"
      ]
     },
     "execution_count": 57,
     "metadata": {},
     "output_type": "execute_result"
    }
   ],
   "source": [
    "median_fill_col = Pza_Fernández_col_null[(Pza_Fernández_col_null.values >= 1) & (Pza_Fernández_col_null.values <= 70)].index\n",
    "median_fill_col"
   ]
  },
  {
   "cell_type": "code",
   "execution_count": 58,
   "id": "9856c6bb",
   "metadata": {},
   "outputs": [],
   "source": [
    "for col in median_fill_col:\n",
    "    Pza_Fernández_df[col].fillna((Pza_Fernández_df[col]).median(), inplace=True)"
   ]
  },
  {
   "cell_type": "code",
   "execution_count": 59,
   "id": "00f5f725",
   "metadata": {},
   "outputs": [
    {
     "data": {
      "text/plain": [
       "Index(['NO'], dtype='object')"
      ]
     },
     "execution_count": 59,
     "metadata": {},
     "output_type": "execute_result"
    }
   ],
   "source": [
    "median_fill_col = Ensanche_col_null[(Ensanche_col_null.values >= 1) & (Ensanche_col_null.values <= 70)].index\n",
    "median_fill_col"
   ]
  },
  {
   "cell_type": "code",
   "execution_count": 60,
   "id": "909eded3",
   "metadata": {},
   "outputs": [],
   "source": [
    "for col in median_fill_col:\n",
    "    Ensanche_df[col].fillna((Ensanche_df[col]).median(), inplace=True)"
   ]
  },
  {
   "cell_type": "code",
   "execution_count": 61,
   "id": "e067f3e2",
   "metadata": {},
   "outputs": [
    {
     "data": {
      "text/plain": [
       "0"
      ]
     },
     "execution_count": 61,
     "metadata": {},
     "output_type": "execute_result"
    }
   ],
   "source": [
    "Ensanche_df.isna().sum().sum()"
   ]
  },
  {
   "cell_type": "code",
   "execution_count": 62,
   "id": "a7eaef04",
   "metadata": {},
   "outputs": [
    {
     "data": {
      "text/plain": [
       "0"
      ]
     },
     "execution_count": 62,
     "metadata": {},
     "output_type": "execute_result"
    }
   ],
   "source": [
    "Pza_Fernández_df.isna().sum().sum()"
   ]
  },
  {
   "cell_type": "code",
   "execution_count": 63,
   "id": "1654de30",
   "metadata": {},
   "outputs": [
    {
     "data": {
      "text/plain": [
       "0"
      ]
     },
     "execution_count": 63,
     "metadata": {},
     "output_type": "execute_result"
    }
   ],
   "source": [
    "Urb_Embajada_df.isna().sum().sum()"
   ]
  },
  {
   "cell_type": "markdown",
   "id": "5e7a9fca",
   "metadata": {},
   "source": [
    "## Duplicate values"
   ]
  },
  {
   "cell_type": "code",
   "execution_count": 65,
   "id": "f5345716",
   "metadata": {},
   "outputs": [
    {
     "name": "stdout",
     "output_type": "stream",
     "text": [
      "0\n"
     ]
    }
   ],
   "source": [
    "Ensanche_df.duplicated().sum()"
   ]
  },
  {
   "cell_type": "code",
   "execution_count": 66,
   "id": "4b0d83cd",
   "metadata": {},
   "outputs": [
    {
     "name": "stdout",
     "output_type": "stream",
     "text": [
      "0\n"
     ]
    }
   ],
   "source": [
    "Urb_Embajada_df.duplicated().sum()"
   ]
  },
  {
   "cell_type": "code",
   "execution_count": 67,
   "id": "87b4517f",
   "metadata": {},
   "outputs": [
    {
     "data": {
      "text/plain": [
       "0"
      ]
     },
     "execution_count": 67,
     "metadata": {},
     "output_type": "execute_result"
    }
   ],
   "source": [
    "Pza_Fernández_df.duplicated().sum()"
   ]
  },
  {
   "cell_type": "code",
   "execution_count": 68,
   "id": "8dcfe2b4",
   "metadata": {},
   "outputs": [],
   "source": [
    "Ensanche_df.to_csv(\"Ensanche.csv\", index=False)\n",
    "Urb_Embajada_df.to_csv(\"Urb_Embajada.csv\", index=False)\n",
    "Pza_Fernández_df.to_csv(\"Pza_Fernández.csv\", index=False)"
   ]
  }
 ],
 "metadata": {
  "kernelspec": {
   "display_name": "Python 3 (ipykernel)",
   "language": "python",
   "name": "python3"
  },
  "language_info": {
   "codemirror_mode": {
    "name": "ipython",
    "version": 3
   },
   "file_extension": ".py",
   "mimetype": "text/x-python",
   "name": "python",
   "nbconvert_exporter": "python",
   "pygments_lexer": "ipython3",
   "version": "3.9.12"
  }
 },
 "nbformat": 4,
 "nbformat_minor": 5
}
